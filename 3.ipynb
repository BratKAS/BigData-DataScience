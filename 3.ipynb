{
 "cells": [
  {
   "cell_type": "markdown",
   "id": "0defdebd-b9f2-4680-93bf-52a0c6097c62",
   "metadata": {},
   "source": [
    "# Урок 3\n",
    "## [хабр](https://habr.com/ru/companies/ods/articles/322534/)\n",
    "## [Ютуб](https://www.youtube.com/live/crerhGu3j-8?list=PLVlY_7IJCMJdgcCtQfzj5j8OVB_Y0GJCl&index=4)"
   ]
  },
  {
   "cell_type": "code",
   "execution_count": null,
   "id": "e3210928-5362-48a8-8119-c3008d34010f",
   "metadata": {},
   "outputs": [],
   "source": []
  }
 ],
 "metadata": {
  "kernelspec": {
   "display_name": "",
   "name": ""
  },
  "language_info": {
   "name": ""
  }
 },
 "nbformat": 4,
 "nbformat_minor": 5
}
