{
 "cells": [
  {
   "cell_type": "code",
   "id": "02e1831c-faac-4f4f-8344-717c5691f42f",
   "metadata": {},
   "source": [
    "# будем отображать графики прямо в jupyter'e\n",
    "%matplotlib inline\n",
    "import seaborn as sns\n",
    "import matplotlib.pyplot as plt\n",
    "#графики в svg выглядят более четкими\n",
    "%config InlineBackend.figure_format = 'svg' \n",
    "\n",
    "#увеличим дефолтный размер графиков\n",
    "from pylab import rcParams\n",
    "rcParams['figure.figsize'] = 8, 5\n",
    "import pandas as pd"
   ],
   "outputs": [],
   "execution_count": null
  },
  {
   "cell_type": "code",
   "id": "753bf775-3e28-4c9d-972c-8a691899c928",
   "metadata": {},
   "source": [
    "df = pd.read_csv('data/video_games_sales.csv')\n",
    "df.info()"
   ],
   "outputs": [],
   "execution_count": null
  },
  {
   "cell_type": "code",
   "id": "ef8d235b-3248-49c8-913e-ea5e9bde8f0a",
   "metadata": {},
   "source": [],
   "outputs": [],
   "execution_count": null
  },
  {
   "cell_type": "code",
   "id": "573e3ff2-9c2e-4d5f-b60c-9ef60487eccf",
   "metadata": {},
   "source": [
    "df.head()"
   ],
   "outputs": [],
   "execution_count": null
  },
  {
   "cell_type": "code",
   "id": "7515f303-508f-4a20-9247-416da80b7c3c",
   "metadata": {},
   "source": [],
   "outputs": [],
   "execution_count": null
  },
  {
   "cell_type": "code",
   "id": "d4316965-2642-49ad-9ad4-f9a072fa62e6",
   "metadata": {},
   "source": [],
   "outputs": [],
   "execution_count": null
  },
  {
   "cell_type": "code",
   "id": "ecf9156f-30fd-45d0-8873-4df34463be0e",
   "metadata": {},
   "source": [],
   "outputs": [],
   "execution_count": null
  },
  {
   "cell_type": "code",
   "id": "0412e37c-e69c-47f6-94b5-1ed3eb7064f1",
   "metadata": {},
   "source": [
    "print(df.shape)\n",
    "df = df.dropna()\n",
    "print(df.shape)"
   ],
   "outputs": [],
   "execution_count": null
  },
  {
   "cell_type": "code",
   "id": "98367b4e-a5d4-4260-b185-c7159f8b9e14",
   "metadata": {},
   "source": [
    "df['User_Score'] = df.User_Score.astype('float64')\n",
    "df['Year_of_Release'] = df.Year_of_Release.astype('int64')\n",
    "df['User_Count'] = df.User_Count.astype('int64')\n",
    "df['Critic_Count'] = df.Critic_Count.astype('int64')"
   ],
   "outputs": [],
   "execution_count": null
  },
  {
   "cell_type": "code",
   "id": "be9b1dec-d462-4ece-a7aa-e945a940de7f",
   "metadata": {},
   "source": [
    "useful_cols = ['Name', 'Platform', 'Year_of_Release', 'Genre', \n",
    "               'Global_Sales', 'Critic_Score', 'Critic_Count',\n",
    "               'User_Score', 'User_Count', 'Rating'\n",
    "              ]\n",
    "df[useful_cols].head()"
   ],
   "outputs": [],
   "execution_count": null
  },
  {
   "cell_type": "code",
   "id": "9f6a9aab-4f0f-400c-8a06-d8ea463ce8dc",
   "metadata": {},
   "source": [
    "df[useful_cols].info()"
   ],
   "outputs": [],
   "execution_count": null
  },
  {
   "cell_type": "code",
   "id": "162dcc3e-6721-4f86-a6c3-52b95714a58f",
   "metadata": {},
   "source": [
    "sales_df = df[[x for x in df.columns if 'Sales' in x] + ['Year_of_Release']]\n",
    "sales_df.head()"
   ],
   "outputs": [],
   "execution_count": null
  },
  {
   "cell_type": "code",
   "id": "eb835a95-d088-4a1c-b3e7-a3ae9416873a",
   "metadata": {},
   "source": [
    "sales_df.groupby('Year_of_Release').sum().plot()"
   ],
   "outputs": [],
   "execution_count": null
  },
  {
   "cell_type": "code",
   "id": "d309e0b6-fe0c-49bc-88b4-f153215420f9",
   "metadata": {},
   "source": [
    "sales_df.groupby('Year_of_Release').sum().plot(kind='bar', rot=45)"
   ],
   "outputs": [],
   "execution_count": null
  },
  {
   "cell_type": "code",
   "id": "d56add9f-eb5d-439a-a03f-e523115716a2",
   "metadata": {},
   "source": [
    "cols = ['Global_Sales', 'Critic_Score', 'Critic_Count', 'User_Score', 'User_Count']\n",
    "df[cols].head()"
   ],
   "outputs": [],
   "execution_count": null
  },
  {
   "cell_type": "code",
   "id": "8f234a44-87c0-4914-afe8-b6580f3c4fff",
   "metadata": {},
   "source": [
    "sns_plot = sns.pairplot(df[cols])"
   ],
   "outputs": [],
   "execution_count": null
  },
  {
   "cell_type": "code",
   "id": "2ca9b294-9c4d-4e8e-8d23-5d723f6a29ba",
   "metadata": {},
   "source": [
    "sns.displot(df['Critic_Score'])"
   ],
   "outputs": [],
   "execution_count": null
  },
  {
   "cell_type": "code",
   "id": "946ea2df-18db-489d-b82c-d29537b8347c",
   "metadata": {},
   "source": [
    "sns.jointplot(df['Critic_Score'])"
   ],
   "outputs": [],
   "execution_count": null
  },
  {
   "cell_type": "code",
   "id": "4824a596-f1db-4fba-90fa-c49f0862eaa2",
   "metadata": {},
   "source": [
    "top_platforms = df.Platform.value_counts().sort_values(ascending = False).head(6).index.values\n",
    "sns.boxplot(y=\"Platform\", x=\"Critic_Score\", data=df[df.Platform.isin(top_platforms)], orient=\"h\")"
   ],
   "outputs": [],
   "execution_count": null
  },
  {
   "cell_type": "code",
   "id": "87a30099-c1f6-462b-832d-9ebbd787529c",
   "metadata": {},
   "source": [
    "platform_genre_sales = df.pivot_table(\n",
    "                        index='Platform', \n",
    "                        columns='Genre', \n",
    "                        values='Global_Sales', \n",
    "                        aggfunc='sum').fillna(0).astype(float)\n",
    "sns.heatmap(platform_genre_sales, annot=True, fmt=\".1f\", linewidths=.5)"
   ],
   "outputs": [],
   "execution_count": null
  },
  {
   "cell_type": "code",
   "id": "137d9161-dabb-4f86-abd2-4e9b48b9ebac",
   "metadata": {},
   "source": [
    "from plotly.offline import download_plotlyjs, init_notebook_mode, plot, iplot\n",
    "import plotly\n",
    "import plotly.graph_objs as go\n",
    "\n",
    "init_notebook_mode(connected=True)"
   ],
   "outputs": [],
   "execution_count": null
  },
  {
   "cell_type": "code",
   "id": "ed55fc6f-7284-4676-8552-cf64e056461c",
   "metadata": {},
   "source": [
    "# посчитаем число вышедших игр и проданных копий по годам\n",
    "years_df = df.groupby('Year_of_Release')[['Global_Sales']].sum().join(\n",
    "    df.groupby('Year_of_Release')[['Name']].count()\n",
    ")\n",
    "years_df.columns = ['Global_Sales', 'Number_of_Games']\n",
    "\n",
    "# создаем линию для числа проданных копий\n",
    "trace0 = go.Scatter(\n",
    "    x=years_df.index,\n",
    "    y=years_df.Global_Sales,\n",
    "    name='Global Sales'\n",
    ")\n",
    "\n",
    "# создаем линию для числа вышедших игр \n",
    "trace1 = go.Scatter(\n",
    "    x=years_df.index,\n",
    "    y=years_df.Number_of_Games,\n",
    "    name='Number of games released'\n",
    ")\n",
    "\n",
    "# определяем массив данных и задаем title графика в layout\n",
    "data = [trace0, trace1]\n",
    "layout = {'title': 'Statistics of video games'}\n",
    "\n",
    "# cоздаем объект Figure и визуализируем его\n",
    "fig = go.Figure(data=data, layout=layout)\n",
    "iplot(fig, show_link=False)"
   ],
   "outputs": [],
   "execution_count": null
  },
  {
   "cell_type": "code",
   "id": "2e26e16f-99e7-4767-8611-6406a8d31b52",
   "metadata": {},
   "source": [
    "plotly.offline.plot(fig, filename='years_stats.html', show_link=False)"
   ],
   "outputs": [],
   "execution_count": null
  },
  {
   "cell_type": "code",
   "id": "f221b01f-1af8-483d-9396-bb3030548d20",
   "metadata": {},
   "source": [
    "# считаем число проданных и вышедших игр по платформам\n",
    "platforms_df = df.groupby('Platform')[['Global_Sales']].sum().join(\n",
    "    df.groupby('Platform')[['Name']].count()\n",
    ")\n",
    "platforms_df.columns = ['Global_Sales', 'Number_of_Games']\n",
    "platforms_df.sort_values('Global_Sales', ascending=False, inplace=True)\n",
    "\n",
    "# создаем traces для визуализации\n",
    "trace0 = go.Bar(\n",
    "    x=platforms_df.index,\n",
    "    y=platforms_df.Global_Sales,\n",
    "    name='Global Sales'\n",
    ")\n",
    "\n",
    "trace1 = go.Bar(\n",
    "    x=platforms_df.index,\n",
    "    y=platforms_df.Number_of_Games,\n",
    "    name='Number of games released'\n",
    ")\n",
    "\n",
    "# создаем массив с данными и задаем title для графика и оси x в layout\n",
    "data = [trace0, trace1]\n",
    "layout = {'title': 'Share of platforms', 'xaxis': {'title': 'platform'}}\n",
    "\n",
    "# создаем объект Figure и визуализируем его\n",
    "fig = go.Figure(data=data, layout=layout)\n",
    "iplot(fig, show_link=False)"
   ],
   "outputs": [],
   "execution_count": null
  },
  {
   "cell_type": "code",
   "id": "ade88ce5-3fea-4093-98cd-8e8e1f26576d",
   "metadata": {},
   "source": [
    "df = pd.read_csv('data/telecom_churn.csv')"
   ],
   "outputs": [],
   "execution_count": null
  },
  {
   "cell_type": "code",
   "id": "770a6e18-bba8-45c3-83a8-33397594a687",
   "metadata": {},
   "source": [
    "df.head()"
   ],
   "outputs": [],
   "execution_count": null
  },
  {
   "cell_type": "code",
   "id": "9626a882-1378-4e16-b0cc-6848bc670ba3",
   "metadata": {},
   "source": [
    "df.shape"
   ],
   "outputs": [],
   "execution_count": null
  },
  {
   "cell_type": "code",
   "id": "c2c1c748-8785-48c6-b2a2-a62aba5a5a63",
   "metadata": {},
   "source": [
    "df.info"
   ],
   "outputs": [],
   "execution_count": null
  },
  {
   "cell_type": "code",
   "id": "9850a86f-97c8-423e-a913-9170f4762dc1",
   "metadata": {},
   "source": [
    "df['Churn'].value_counts()"
   ],
   "outputs": [],
   "execution_count": null
  },
  {
   "cell_type": "code",
   "id": "4f191452-90df-4d48-b093-8d3d258f85fe",
   "metadata": {},
   "source": [
    "df['Churn'].value_counts().plot(kind='bar', label='Churn')\n",
    "plt.legend()\n",
    "plt.title('Распределение оттока клиентов');"
   ],
   "outputs": [],
   "execution_count": null
  },
  {
   "cell_type": "code",
   "id": "3ee1f0eb-f724-45e1-a02a-7685c9240b6c",
   "metadata": {},
   "source": [
    "corr_matrix = df.drop(['State', 'International plan', 'Voice mail plan',\n",
    "                      'Area code'], axis=1).corr()"
   ],
   "outputs": [],
   "execution_count": null
  },
  {
   "cell_type": "code",
   "id": "79632874-0fc4-40f1-82b0-d08aa5c85f19",
   "metadata": {},
   "source": [
    "sns.heatmap(corr_matrix);"
   ],
   "outputs": [],
   "execution_count": null
  },
  {
   "cell_type": "code",
   "id": "74a61fad-6858-4e6b-90b8-01d41ed6ae5c",
   "metadata": {},
   "source": [
    "features = list(set(df.columns) - set(['State', 'International plan', 'Voice mail plan',  'Area code',\n",
    "                                      'Total day charge',   'Total eve charge',   'Total night charge',\n",
    "                                        'Total intl charge', 'Churn']))\n",
    "\n",
    "df[features].hist(figsize=(20,12));"
   ],
   "outputs": [],
   "execution_count": null
  },
  {
   "cell_type": "code",
   "id": "1b86e471-fd0c-44b6-9b28-9f0f8e171d93",
   "metadata": {},
   "source": [
    "sns.pairplot(df[features + ['Churn']], hue='Churn');"
   ],
   "outputs": [],
   "execution_count": null
  },
  {
   "cell_type": "code",
   "id": "8888ae8f-51bd-4fd8-98b6-cc9e66543fa6",
   "metadata": {},
   "source": [
    "fig, axes = plt.subplots(nrows=3, ncols=4, figsize=(16, 10))\n",
    "\n",
    "for idx, feat in  enumerate(features):\n",
    "    sns.boxplot(x='Churn', y=feat, data=df, ax=axes[idx // 4, idx % 4], label=feat)\n",
    "    axes[idx // 4, idx % 4].legend()\n",
    "    axes[idx // 4, idx % 4].set_xlabel('Churn')\n",
    "    axes[idx // 4, idx % 4].set_ylabel(feat);"
   ],
   "outputs": [],
   "execution_count": null
  },
  {
   "cell_type": "code",
   "id": "fd59d2a8-2515-44e2-87c9-8ff188cdc6db",
   "metadata": {},
   "source": [
    "_, axes = plt.subplots(1, 2, sharey=True, figsize=(16,6))\n",
    "\n",
    "sns.boxplot(x='Churn', y='Total day minutes', data=df, ax=axes[0]);\n",
    "sns.violinplot(x='Churn', y='Total day minutes', data=df, ax=axes[1]);"
   ],
   "outputs": [],
   "execution_count": null
  },
  {
   "cell_type": "code",
   "id": "8ac28b2a-9526-4722-b82d-ad5cdeb200a9",
   "metadata": {},
   "source": [
    "sns.countplot(x='Customer service calls', hue='Churn', data=df)\n"
   ],
   "outputs": [],
   "execution_count": null
  },
  {
   "cell_type": "code",
   "id": "9a38b4bf-9107-458c-9b78-555df169e397",
   "metadata": {},
   "source": [
    "from sklearn.manifold import TSNE\n",
    "from sklearn.preprocessing import StandardScaler"
   ],
   "outputs": [],
   "execution_count": null
  },
  {
   "cell_type": "code",
   "id": "239b0560-20ac-4a54-823e-c3631ffc87bd",
   "metadata": {},
   "source": [
    "# преобразуем все признаки в числовые, выкинув штаты\n",
    "X = df.drop(['Churn', 'State'], axis=1)\n",
    "X['International plan'] = pd.factorize(X['International plan'])[0]\n",
    "X['Voice mail plan'] = pd.factorize(X['Voice mail plan'])[0]\n",
    "\n",
    "scaler = StandardScaler()\n",
    "X_scaled = scaler.fit_transform(X)"
   ],
   "outputs": [],
   "execution_count": null
  },
  {
   "cell_type": "code",
   "id": "6d54cfa5-6257-4ea3-ac9f-4b1994915638",
   "metadata": {},
   "source": [
    "%%time\n",
    "tsne = TSNE(random_state=17)\n",
    "tsne_representation = tsne.fit_transform(X_scaled)"
   ],
   "outputs": [],
   "execution_count": null
  },
  {
   "cell_type": "code",
   "id": "a2ac8ddb-ddbc-45da-9885-12a80439b8ea",
   "metadata": {},
   "source": [
    "plt.scatter(tsne_representation[:, 0], tsne_representation[:, 1]);"
   ],
   "outputs": [],
   "execution_count": null
  },
  {
   "cell_type": "code",
   "id": "0f6aaf6a-b904-423e-a4f9-66d6bb2faf90",
   "metadata": {},
   "source": [
    "plt.scatter(tsne_representation[:, 0], tsne_representation[:, 1], \n",
    "            c=df['Churn'].map({0: 'blue', 1: 'orange'}));"
   ],
   "outputs": [],
   "execution_count": null
  },
  {
   "cell_type": "code",
   "id": "7884507e-41fd-4e22-80a3-6a529a15b245",
   "metadata": {},
   "source": [
    "_, axes = plt.subplots(1, 2, sharey=True, figsize=(16,6))\n",
    "\n",
    "axes[0].scatter(tsne_representation[:, 0], tsne_representation[:, 1], \n",
    "            c=df['International plan'].map({'Yes': 'blue', 'No': 'orange'}));\n",
    "axes[1].scatter(tsne_representation[:, 0], tsne_representation[:, 1], \n",
    "            c=df['Voice mail plan'].map({'Yes': 'blue', 'No': 'orange'}));\n",
    "axes[0].set_title('International plan');\n",
    "axes[1].set_title('Voice mail plan');"
   ],
   "outputs": [],
   "execution_count": null
  },
  {
   "cell_type": "code",
   "id": "58d3acad-b02d-4dab-ae02-f25a281ebc26",
   "metadata": {},
   "source": [],
   "outputs": [],
   "execution_count": null
  }
 ],
 "metadata": {
  "kernelspec": {
   "display_name": "Python 3 (ipykernel)",
   "language": "python",
   "name": "python3"
  },
  "language_info": {
   "codemirror_mode": {
    "name": "ipython",
    "version": 3
   },
   "file_extension": ".py",
   "mimetype": "text/x-python",
   "name": "python",
   "nbconvert_exporter": "python",
   "pygments_lexer": "ipython3",
   "version": "3.12.2"
  }
 },
 "nbformat": 4,
 "nbformat_minor": 5
}
