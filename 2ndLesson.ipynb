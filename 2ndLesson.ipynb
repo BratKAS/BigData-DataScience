{
 "cells": [
  {
   "cell_type": "code",
   "id": "02e1831c-faac-4f4f-8344-717c5691f42f",
   "metadata": {},
   "source": [
    "# будем отображать графики прямо в jupyter'e\n",
    "%matplotlib inline\n",
    "import seaborn as sns\n",
    "import matplotlib.pyplot as plt\n",
    "#графики в svg выглядят более четкими\n",
    "%config InlineBackend.figure_format = 'svg' \n",
    "\n",
    "#увеличим дефолтный размер графиков\n",
    "from pylab import rcParams\n",
    "rcParams['figure.figsize'] = 8, 5\n",
    "import pandas as pd"
   ],
   "outputs": [],
   "execution_count": null
  },
  {
   "cell_type": "code",
   "id": "753bf775-3e28-4c9d-972c-8a691899c928",
   "metadata": {},
   "source": [
    "df = pd.read_csv('data/video_games_sales.csv')\n",
    "df.info()"
   ],
   "outputs": [],
   "execution_count": null
  },
  {
   "cell_type": "code",
   "id": "573e3ff2-9c2e-4d5f-b60c-9ef60487eccf",
   "metadata": {},
   "source": [
    "df.head()"
   ],
   "outputs": [],
   "execution_count": null
  },
  {
   "cell_type": "code",
   "id": "0412e37c-e69c-47f6-94b5-1ed3eb7064f1",
   "metadata": {},
   "source": [
    "print(df.shape)\n",
    "df = df.dropna()\n",
    "print(df.shape)"
   ],
   "outputs": [],
   "execution_count": null
  },
  {
   "cell_type": "code",
   "id": "98367b4e-a5d4-4260-b185-c7159f8b9e14",
   "metadata": {},
   "source": [
    "df['User_Score'] = df.User_Score.astype('float64')\n",
    "df['Year_of_Release'] = df.Year_of_Release.astype('int64')\n",
    "df['User_Count'] = df.User_Count.astype('int64')\n",
    "df['Critic_Count'] = df.Critic_Count.astype('int64')"
   ],
   "outputs": [],
   "execution_count": null
  },
  {
   "cell_type": "code",
   "id": "be9b1dec-d462-4ece-a7aa-e945a940de7f",
   "metadata": {},
   "source": [
    "useful_cols = ['Name', 'Platform', 'Year_of_Release', 'Genre', \n",
    "               'Global_Sales', 'Critic_Score', 'Critic_Count',\n",
    "               'User_Score', 'User_Count', 'Rating'\n",
    "              ]\n",
    "df[useful_cols].head()"
   ],
   "outputs": [],
   "execution_count": null
  },
  {
   "cell_type": "code",
   "id": "9f6a9aab-4f0f-400c-8a06-d8ea463ce8dc",
   "metadata": {},
   "source": [
    "df[useful_cols].info()"
   ],
   "outputs": [],
   "execution_count": null
  },
  {
   "cell_type": "code",
   "id": "162dcc3e-6721-4f86-a6c3-52b95714a58f",
   "metadata": {},
   "source": [
    "sales_df = df[[x for x in df.columns if 'Sales' in x] + ['Year_of_Release']]\n",
    "sales_df.head()"
   ],
   "outputs": [],
   "execution_count": null
  },
  {
   "cell_type": "code",
   "id": "eb835a95-d088-4a1c-b3e7-a3ae9416873a",
   "metadata": {},
   "source": [
    "sales_df.groupby('Year_of_Release').sum().plot()"
   ],
   "outputs": [],
   "execution_count": null
  },
  {
   "cell_type": "code",
   "id": "d309e0b6-fe0c-49bc-88b4-f153215420f9",
   "metadata": {},
   "source": [
    "sales_df.groupby('Year_of_Release').sum().plot(kind='bar', rot=45)"
   ],
   "outputs": [],
   "execution_count": null
  },
  {
   "cell_type": "code",
   "id": "d56add9f-eb5d-439a-a03f-e523115716a2",
   "metadata": {},
   "source": [
    "cols = ['Global_Sales', 'Critic_Score', 'Critic_Count', 'User_Score', 'User_Count']\n",
    "df[cols].head()"
   ],
   "outputs": [],
   "execution_count": null
  },
  {
   "cell_type": "code",
   "id": "8f234a44-87c0-4914-afe8-b6580f3c4fff",
   "metadata": {},
   "source": [
    "sns_plot = sns.pairplot(df[cols])"
   ],
   "outputs": [],
   "execution_count": null
  },
  {
   "cell_type": "code",
   "id": "2ca9b294-9c4d-4e8e-8d23-5d723f6a29ba",
   "metadata": {},
   "source": [
    "sns.displot(df['Critic_Score'])"
   ],
   "outputs": [],
   "execution_count": null
  },
  {
   "cell_type": "code",
   "id": "946ea2df-18db-489d-b82c-d29537b8347c",
   "metadata": {},
   "source": [
    "sns.jointplot(df['Critic_Score'])"
   ],
   "outputs": [],
   "execution_count": null
  },
  {
   "cell_type": "code",
   "id": "4824a596-f1db-4fba-90fa-c49f0862eaa2",
   "metadata": {},
   "source": [
    "top_platforms = df.Platform.value_counts().sort_values(ascending = False).head(6).index.values\n",
    "sns.boxplot(y=\"Platform\", x=\"Critic_Score\", data=df[df.Platform.isin(top_platforms)], orient=\"h\")"
   ],
   "outputs": [],
   "execution_count": null
  },
  {
   "cell_type": "code",
   "id": "87a30099-c1f6-462b-832d-9ebbd787529c",
   "metadata": {},
   "source": [
    "platform_genre_sales = df.pivot_table(\n",
    "                        index='Platform', \n",
    "                        columns='Genre', \n",
    "                        values='Global_Sales', \n",
    "                        aggfunc='sum').fillna(0).astype(float)\n",
    "sns.heatmap(platform_genre_sales, annot=True, fmt=\".1f\", linewidths=.5)"
   ],
   "outputs": [],
   "execution_count": null
  },
  {
   "cell_type": "code",
   "id": "137d9161-dabb-4f86-abd2-4e9b48b9ebac",
   "metadata": {},
   "source": [
    "from plotly.offline import download_plotlyjs, init_notebook_mode, plot, iplot\n",
    "import plotly\n",
    "import plotly.graph_objs as go\n",
    "\n",
    "init_notebook_mode(connected=True)"
   ],
   "outputs": [],
   "execution_count": null
  },
  {
   "cell_type": "code",
   "id": "ed55fc6f-7284-4676-8552-cf64e056461c",
   "metadata": {},
   "source": [
    "# посчитаем число вышедших игр и проданных копий по годам\n",
    "years_df = df.groupby('Year_of_Release')[['Global_Sales']].sum().join(\n",
    "    df.groupby('Year_of_Release')[['Name']].count()\n",
    ")\n",
    "years_df.columns = ['Global_Sales', 'Number_of_Games']\n",
    "\n",
    "# создаем линию для числа проданных копий\n",
    "trace0 = go.Scatter(\n",
    "    x=years_df.index,\n",
    "    y=years_df.Global_Sales,\n",
    "    name='Global Sales'\n",
    ")\n",
    "\n",
    "# создаем линию для числа вышедших игр \n",
    "trace1 = go.Scatter(\n",
    "    x=years_df.index,\n",
    "    y=years_df.Number_of_Games,\n",
    "    name='Number of games released'\n",
    ")\n",
    "\n",
    "# определяем массив данных и задаем title графика в layout\n",
    "data = [trace0, trace1]\n",
    "layout = {'title': 'Statistics of video games'}\n",
    "\n",
    "# cоздаем объект Figure и визуализируем его\n",
    "fig = go.Figure(data=data, layout=layout)\n",
    "iplot(fig, show_link=False)"
   ],
   "outputs": [],
   "execution_count": null
  },
  {
   "cell_type": "code",
   "id": "2e26e16f-99e7-4767-8611-6406a8d31b52",
   "metadata": {},
   "source": [
    "plotly.offline.plot(fig, filename='years_stats.html', show_link=False)"
   ],
   "outputs": [],
   "execution_count": null
  },
  {
   "cell_type": "code",
   "id": "f221b01f-1af8-483d-9396-bb3030548d20",
   "metadata": {},
   "source": [],
   "outputs": [],
   "execution_count": null
  }
 ],
 "metadata": {
  "kernelspec": {
   "display_name": "Python 3 (ipykernel)",
   "language": "python",
   "name": "python3"
  },
  "language_info": {
   "codemirror_mode": {
    "name": "ipython",
    "version": 3
   },
   "file_extension": ".py",
   "mimetype": "text/x-python",
   "name": "python",
   "nbconvert_exporter": "python",
   "pygments_lexer": "ipython3",
   "version": "3.12.2"
  }
 },
 "nbformat": 4,
 "nbformat_minor": 5
}
