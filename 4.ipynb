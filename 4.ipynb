{
 "cells": [
  {
   "cell_type": "markdown",
   "id": "b4cec48c-b09f-49b3-9885-f0fdfdcb8305",
   "metadata": {},
   "source": [
    "# Открытый курс машинного обучения. Тема 4. Линейные модели классификации и регрессии\n",
    "## [habr](https://habr.com/ru/companies/ods/articles/323890/)\n",
    "## [YouTube](https://www.youtube.com/watch?v=NO4KSNbsXZE)"
   ]
  },
  {
   "cell_type": "code",
   "execution_count": null,
   "id": "c029f7db-c46b-400c-892a-8345af017499",
   "metadata": {},
   "outputs": [],
   "source": []
  }
 ],
 "metadata": {
  "kernelspec": {
   "display_name": "Python 3 (ipykernel)",
   "language": "python",
   "name": "python3"
  },
  "language_info": {
   "codemirror_mode": {
    "name": "ipython",
    "version": 3
   },
   "file_extension": ".py",
   "mimetype": "text/x-python",
   "name": "python",
   "nbconvert_exporter": "python",
   "pygments_lexer": "ipython3",
   "version": "3.12.4"
  }
 },
 "nbformat": 4,
 "nbformat_minor": 5
}
