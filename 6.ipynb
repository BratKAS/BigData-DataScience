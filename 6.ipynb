{
 "cells": [
  {
   "cell_type": "markdown",
   "id": "da5ebfbb-6d66-4d2f-98cc-1b2f773656fb",
   "metadata": {},
   "source": [
    "# [habr](https://habr.com/ru/companies/ods/articles/325422/)"
   ]
  },
  {
   "cell_type": "code",
   "execution_count": null,
   "id": "c0c9f213-5538-45e0-afb6-81fb4a7f8a53",
   "metadata": {},
   "outputs": [],
   "source": []
  }
 ],
 "metadata": {
  "kernelspec": {
   "display_name": "Python 3 (ipykernel)",
   "language": "python",
   "name": "python3"
  },
  "language_info": {
   "codemirror_mode": {
    "name": "ipython",
    "version": 3
   },
   "file_extension": ".py",
   "mimetype": "text/x-python",
   "name": "python",
   "nbconvert_exporter": "python",
   "pygments_lexer": "ipython3",
   "version": "3.12.4"
  }
 },
 "nbformat": 4,
 "nbformat_minor": 5
}
