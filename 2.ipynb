{
 "cells": [
  {
   "cell_type": "markdown",
   "id": "da8b5670-498c-438c-b392-dcc48476dfa4",
   "metadata": {},
   "source": [
    "# Урок 2\n",
    "## [Ссылка на хабр](https://habr.com/ru/companies/ods/articles/323210/)\n",
    "\n",
    "## [Ссылка на ютуб](https://youtu.be/uwQat1TV0JM?si=p9dw8-SOmOWpIdwA)"
   ]
  },
  {
   "cell_type": "code",
   "execution_count": null,
   "id": "02e1831c-faac-4f4f-8344-717c5691f42f",
   "metadata": {},
   "outputs": [],
   "source": [
    "# будем отображать графики прямо в jupyter'e\n",
    "%matplotlib inline\n",
    "import seaborn as sns\n",
    "import matplotlib.pyplot as plt\n",
    "#графики в svg выглядят более четкими\n",
    "%config InlineBackend.figure_format = 'svg' \n",
    "\n",
    "#увеличим дефолтный размер графиков\n",
    "from pylab import rcParams\n",
    "rcParams['figure.figsize'] = 8, 5\n",
    "import pandas as pd"
   ]
  },
  {
   "cell_type": "code",
   "execution_count": null,
   "id": "753bf775-3e28-4c9d-972c-8a691899c928",
   "metadata": {},
   "outputs": [],
   "source": [
    "df = pd.read_csv('data/video_games_sales.csv')\n",
    "df.info()"
   ]
  },
  {
   "cell_type": "code",
   "execution_count": null,
   "id": "ef8d235b-3248-49c8-913e-ea5e9bde8f0a",
   "metadata": {},
   "outputs": [],
   "source": []
  },
  {
   "cell_type": "code",
   "execution_count": null,
   "id": "573e3ff2-9c2e-4d5f-b60c-9ef60487eccf",
   "metadata": {},
   "outputs": [],
   "source": [
    "df.head()"
   ]
  },
  {
   "cell_type": "code",
   "execution_count": null,
   "id": "7515f303-508f-4a20-9247-416da80b7c3c",
   "metadata": {},
   "outputs": [],
   "source": []
  },
  {
   "cell_type": "code",
   "execution_count": null,
   "id": "d4316965-2642-49ad-9ad4-f9a072fa62e6",
   "metadata": {},
   "outputs": [],
   "source": []
  },
  {
   "cell_type": "code",
   "execution_count": null,
   "id": "ecf9156f-30fd-45d0-8873-4df34463be0e",
   "metadata": {},
   "outputs": [],
   "source": []
  },
  {
   "cell_type": "code",
   "execution_count": null,
   "id": "0412e37c-e69c-47f6-94b5-1ed3eb7064f1",
   "metadata": {},
   "outputs": [],
   "source": [
    "print(df.shape)\n",
    "df = df.dropna()\n",
    "print(df.shape)"
   ]
  },
  {
   "cell_type": "code",
   "execution_count": null,
   "id": "98367b4e-a5d4-4260-b185-c7159f8b9e14",
   "metadata": {},
   "outputs": [],
   "source": [
    "df['User_Score'] = df.User_Score.astype('float64')\n",
    "df['Year_of_Release'] = df.Year_of_Release.astype('int64')\n",
    "df['User_Count'] = df.User_Count.astype('int64')\n",
    "df['Critic_Count'] = df.Critic_Count.astype('int64')"
   ]
  },
  {
   "cell_type": "code",
   "execution_count": null,
   "id": "be9b1dec-d462-4ece-a7aa-e945a940de7f",
   "metadata": {},
   "outputs": [],
   "source": [
    "useful_cols = ['Name', 'Platform', 'Year_of_Release', 'Genre', \n",
    "               'Global_Sales', 'Critic_Score', 'Critic_Count',\n",
    "               'User_Score', 'User_Count', 'Rating'\n",
    "              ]\n",
    "df[useful_cols].head()"
   ]
  },
  {
   "cell_type": "code",
   "execution_count": null,
   "id": "9f6a9aab-4f0f-400c-8a06-d8ea463ce8dc",
   "metadata": {},
   "outputs": [],
   "source": [
    "df[useful_cols].info()"
   ]
  },
  {
   "cell_type": "code",
   "execution_count": null,
   "id": "162dcc3e-6721-4f86-a6c3-52b95714a58f",
   "metadata": {},
   "outputs": [],
   "source": [
    "sales_df = df[[x for x in df.columns if 'Sales' in x] + ['Year_of_Release']]\n",
    "sales_df.head()"
   ]
  },
  {
   "cell_type": "code",
   "execution_count": null,
   "id": "eb835a95-d088-4a1c-b3e7-a3ae9416873a",
   "metadata": {},
   "outputs": [],
   "source": [
    "sales_df.groupby('Year_of_Release').sum().plot()"
   ]
  },
  {
   "cell_type": "code",
   "execution_count": null,
   "id": "d309e0b6-fe0c-49bc-88b4-f153215420f9",
   "metadata": {},
   "outputs": [],
   "source": [
    "sales_df.groupby('Year_of_Release').sum().plot(kind='bar', rot=45)"
   ]
  },
  {
   "cell_type": "code",
   "execution_count": null,
   "id": "d56add9f-eb5d-439a-a03f-e523115716a2",
   "metadata": {},
   "outputs": [],
   "source": [
    "cols = ['Global_Sales', 'Critic_Score', 'Critic_Count', 'User_Score', 'User_Count']\n",
    "df[cols].head()"
   ]
  },
  {
   "cell_type": "code",
   "execution_count": null,
   "id": "8f234a44-87c0-4914-afe8-b6580f3c4fff",
   "metadata": {},
   "outputs": [],
   "source": [
    "sns_plot = sns.pairplot(df[cols])"
   ]
  },
  {
   "cell_type": "code",
   "execution_count": null,
   "id": "2ca9b294-9c4d-4e8e-8d23-5d723f6a29ba",
   "metadata": {},
   "outputs": [],
   "source": [
    "sns.displot(df['Critic_Score'])"
   ]
  },
  {
   "cell_type": "code",
   "execution_count": null,
   "id": "946ea2df-18db-489d-b82c-d29537b8347c",
   "metadata": {},
   "outputs": [],
   "source": [
    "sns.jointplot(df['Critic_Score'])"
   ]
  },
  {
   "cell_type": "code",
   "execution_count": null,
   "id": "4824a596-f1db-4fba-90fa-c49f0862eaa2",
   "metadata": {},
   "outputs": [],
   "source": [
    "top_platforms = df.Platform.value_counts().sort_values(ascending = False).head(6).index.values\n",
    "sns.boxplot(y=\"Platform\", x=\"Critic_Score\", data=df[df.Platform.isin(top_platforms)], orient=\"h\")"
   ]
  },
  {
   "cell_type": "code",
   "execution_count": null,
   "id": "87a30099-c1f6-462b-832d-9ebbd787529c",
   "metadata": {},
   "outputs": [],
   "source": [
    "platform_genre_sales = df.pivot_table(\n",
    "                        index='Platform', \n",
    "                        columns='Genre', \n",
    "                        values='Global_Sales', \n",
    "                        aggfunc='sum').fillna(0).astype(float)\n",
    "sns.heatmap(platform_genre_sales, annot=True, fmt=\".1f\", linewidths=.5)"
   ]
  },
  {
   "cell_type": "code",
   "execution_count": null,
   "id": "137d9161-dabb-4f86-abd2-4e9b48b9ebac",
   "metadata": {},
   "outputs": [],
   "source": [
    "from plotly.offline import download_plotlyjs, init_notebook_mode, plot, iplot\n",
    "import plotly\n",
    "import plotly.graph_objs as go\n",
    "\n",
    "init_notebook_mode(connected=True)"
   ]
  },
  {
   "cell_type": "code",
   "execution_count": null,
   "id": "ed55fc6f-7284-4676-8552-cf64e056461c",
   "metadata": {},
   "outputs": [],
   "source": [
    "# посчитаем число вышедших игр и проданных копий по годам\n",
    "years_df = df.groupby('Year_of_Release')[['Global_Sales']].sum().join(\n",
    "    df.groupby('Year_of_Release')[['Name']].count()\n",
    ")\n",
    "years_df.columns = ['Global_Sales', 'Number_of_Games']\n",
    "\n",
    "# создаем линию для числа проданных копий\n",
    "trace0 = go.Scatter(\n",
    "    x=years_df.index,\n",
    "    y=years_df.Global_Sales,\n",
    "    name='Global Sales'\n",
    ")\n",
    "\n",
    "# создаем линию для числа вышедших игр \n",
    "trace1 = go.Scatter(\n",
    "    x=years_df.index,\n",
    "    y=years_df.Number_of_Games,\n",
    "    name='Number of games released'\n",
    ")\n",
    "\n",
    "# определяем массив данных и задаем title графика в layout\n",
    "data = [trace0, trace1]\n",
    "layout = {'title': 'Statistics of video games'}\n",
    "\n",
    "# cоздаем объект Figure и визуализируем его\n",
    "fig = go.Figure(data=data, layout=layout)\n",
    "iplot(fig, show_link=False)"
   ]
  },
  {
   "cell_type": "code",
   "execution_count": null,
   "id": "2e26e16f-99e7-4767-8611-6406a8d31b52",
   "metadata": {},
   "outputs": [],
   "source": [
    "plotly.offline.plot(fig, filename='years_stats.html', show_link=False)"
   ]
  },
  {
   "cell_type": "code",
   "execution_count": null,
   "id": "f221b01f-1af8-483d-9396-bb3030548d20",
   "metadata": {},
   "outputs": [],
   "source": [
    "# считаем число проданных и вышедших игр по платформам\n",
    "platforms_df = df.groupby('Platform')[['Global_Sales']].sum().join(\n",
    "    df.groupby('Platform')[['Name']].count()\n",
    ")\n",
    "platforms_df.columns = ['Global_Sales', 'Number_of_Games']\n",
    "platforms_df.sort_values('Global_Sales', ascending=False, inplace=True)\n",
    "\n",
    "# создаем traces для визуализации\n",
    "trace0 = go.Bar(\n",
    "    x=platforms_df.index,\n",
    "    y=platforms_df.Global_Sales,\n",
    "    name='Global Sales'\n",
    ")\n",
    "\n",
    "trace1 = go.Bar(\n",
    "    x=platforms_df.index,\n",
    "    y=platforms_df.Number_of_Games,\n",
    "    name='Number of games released'\n",
    ")\n",
    "\n",
    "# создаем массив с данными и задаем title для графика и оси x в layout\n",
    "data = [trace0, trace1]\n",
    "layout = {'title': 'Share of platforms', 'xaxis': {'title': 'platform'}}\n",
    "\n",
    "# создаем объект Figure и визуализируем его\n",
    "fig = go.Figure(data=data, layout=layout)\n",
    "iplot(fig, show_link=False)"
   ]
  },
  {
   "cell_type": "code",
   "execution_count": null,
   "id": "ade88ce5-3fea-4093-98cd-8e8e1f26576d",
   "metadata": {},
   "outputs": [],
   "source": [
    "df = pd.read_csv('data/telecom_churn.csv')"
   ]
  },
  {
   "cell_type": "code",
   "execution_count": null,
   "id": "770a6e18-bba8-45c3-83a8-33397594a687",
   "metadata": {},
   "outputs": [],
   "source": [
    "df.head()"
   ]
  },
  {
   "cell_type": "code",
   "execution_count": null,
   "id": "9626a882-1378-4e16-b0cc-6848bc670ba3",
   "metadata": {},
   "outputs": [],
   "source": [
    "df.shape"
   ]
  },
  {
   "cell_type": "code",
   "execution_count": null,
   "id": "c2c1c748-8785-48c6-b2a2-a62aba5a5a63",
   "metadata": {},
   "outputs": [],
   "source": [
    "df.info"
   ]
  },
  {
   "cell_type": "code",
   "execution_count": null,
   "id": "9850a86f-97c8-423e-a913-9170f4762dc1",
   "metadata": {},
   "outputs": [],
   "source": [
    "df['Churn'].value_counts()"
   ]
  },
  {
   "cell_type": "code",
   "execution_count": null,
   "id": "4f191452-90df-4d48-b093-8d3d258f85fe",
   "metadata": {},
   "outputs": [],
   "source": [
    "df['Churn'].value_counts().plot(kind='bar', label='Churn')\n",
    "plt.legend()\n",
    "plt.title('Распределение оттока клиентов');"
   ]
  },
  {
   "cell_type": "code",
   "execution_count": null,
   "id": "3ee1f0eb-f724-45e1-a02a-7685c9240b6c",
   "metadata": {},
   "outputs": [],
   "source": [
    "corr_matrix = df.drop(['State', 'International plan', 'Voice mail plan',\n",
    "                      'Area code'], axis=1).corr()"
   ]
  },
  {
   "cell_type": "code",
   "execution_count": null,
   "id": "79632874-0fc4-40f1-82b0-d08aa5c85f19",
   "metadata": {},
   "outputs": [],
   "source": [
    "sns.heatmap(corr_matrix);"
   ]
  },
  {
   "cell_type": "code",
   "execution_count": null,
   "id": "74a61fad-6858-4e6b-90b8-01d41ed6ae5c",
   "metadata": {},
   "outputs": [],
   "source": [
    "features = list(set(df.columns) - set(['State', 'International plan', 'Voice mail plan',  'Area code',\n",
    "                                      'Total day charge',   'Total eve charge',   'Total night charge',\n",
    "                                        'Total intl charge', 'Churn']))\n",
    "\n",
    "df[features].hist(figsize=(20,12));"
   ]
  },
  {
   "cell_type": "code",
   "execution_count": null,
   "id": "1b86e471-fd0c-44b6-9b28-9f0f8e171d93",
   "metadata": {},
   "outputs": [],
   "source": [
    "sns.pairplot(df[features + ['Churn']], hue='Churn');"
   ]
  },
  {
   "cell_type": "code",
   "execution_count": null,
   "id": "8888ae8f-51bd-4fd8-98b6-cc9e66543fa6",
   "metadata": {},
   "outputs": [],
   "source": [
    "fig, axes = plt.subplots(nrows=3, ncols=4, figsize=(16, 10))\n",
    "\n",
    "for idx, feat in  enumerate(features):\n",
    "    sns.boxplot(x='Churn', y=feat, data=df, ax=axes[idx // 4, idx % 4], label=feat)\n",
    "    axes[idx // 4, idx % 4].legend()\n",
    "    axes[idx // 4, idx % 4].set_xlabel('Churn')\n",
    "    axes[idx // 4, idx % 4].set_ylabel(feat);"
   ]
  },
  {
   "cell_type": "code",
   "execution_count": null,
   "id": "fd59d2a8-2515-44e2-87c9-8ff188cdc6db",
   "metadata": {},
   "outputs": [],
   "source": [
    "_, axes = plt.subplots(1, 2, sharey=True, figsize=(16,6))\n",
    "\n",
    "sns.boxplot(x='Churn', y='Total day minutes', data=df, ax=axes[0]);\n",
    "sns.violinplot(x='Churn', y='Total day minutes', data=df, ax=axes[1]);"
   ]
  },
  {
   "cell_type": "code",
   "execution_count": null,
   "id": "8ac28b2a-9526-4722-b82d-ad5cdeb200a9",
   "metadata": {},
   "outputs": [],
   "source": [
    "sns.countplot(x='Customer service calls', hue='Churn', data=df)\n"
   ]
  },
  {
   "cell_type": "code",
   "execution_count": null,
   "id": "9a38b4bf-9107-458c-9b78-555df169e397",
   "metadata": {},
   "outputs": [],
   "source": [
    "from sklearn.manifold import TSNE\n",
    "from sklearn.preprocessing import StandardScaler"
   ]
  },
  {
   "cell_type": "code",
   "execution_count": null,
   "id": "239b0560-20ac-4a54-823e-c3631ffc87bd",
   "metadata": {},
   "outputs": [],
   "source": [
    "# преобразуем все признаки в числовые, выкинув штаты\n",
    "X = df.drop(['Churn', 'State'], axis=1)\n",
    "X['International plan'] = pd.factorize(X['International plan'])[0]\n",
    "X['Voice mail plan'] = pd.factorize(X['Voice mail plan'])[0]\n",
    "\n",
    "scaler = StandardScaler()\n",
    "X_scaled = scaler.fit_transform(X)"
   ]
  },
  {
   "cell_type": "code",
   "execution_count": null,
   "id": "6d54cfa5-6257-4ea3-ac9f-4b1994915638",
   "metadata": {},
   "outputs": [],
   "source": [
    "%%time\n",
    "tsne = TSNE(random_state=17)\n",
    "tsne_representation = tsne.fit_transform(X_scaled)"
   ]
  },
  {
   "cell_type": "code",
   "execution_count": null,
   "id": "a2ac8ddb-ddbc-45da-9885-12a80439b8ea",
   "metadata": {},
   "outputs": [],
   "source": [
    "plt.scatter(tsne_representation[:, 0], tsne_representation[:, 1]);"
   ]
  },
  {
   "cell_type": "code",
   "execution_count": null,
   "id": "0f6aaf6a-b904-423e-a4f9-66d6bb2faf90",
   "metadata": {},
   "outputs": [],
   "source": [
    "plt.scatter(tsne_representation[:, 0], tsne_representation[:, 1], \n",
    "            c=df['Churn'].map({0: 'blue', 1: 'orange'}));"
   ]
  },
  {
   "cell_type": "code",
   "execution_count": null,
   "id": "7884507e-41fd-4e22-80a3-6a529a15b245",
   "metadata": {},
   "outputs": [],
   "source": [
    "_, axes = plt.subplots(1, 2, sharey=True, figsize=(16,6))\n",
    "\n",
    "axes[0].scatter(tsne_representation[:, 0], tsne_representation[:, 1], \n",
    "            c=df['International plan'].map({'Yes': 'blue', 'No': 'orange'}));\n",
    "axes[1].scatter(tsne_representation[:, 0], tsne_representation[:, 1], \n",
    "            c=df['Voice mail plan'].map({'Yes': 'blue', 'No': 'orange'}));\n",
    "axes[0].set_title('International plan');\n",
    "axes[1].set_title('Voice mail plan');"
   ]
  },
  {
   "cell_type": "code",
   "execution_count": null,
   "id": "58d3acad-b02d-4dab-ae02-f25a281ebc26",
   "metadata": {},
   "outputs": [],
   "source": []
  }
 ],
 "metadata": {
  "kernelspec": {
   "display_name": "Python 3 (ipykernel)",
   "language": "python",
   "name": "python3"
  },
  "language_info": {
   "codemirror_mode": {
    "name": "ipython",
    "version": 3
   },
   "file_extension": ".py",
   "mimetype": "text/x-python",
   "name": "python",
   "nbconvert_exporter": "python",
   "pygments_lexer": "ipython3",
   "version": "3.12.2"
  }
 },
 "nbformat": 4,
 "nbformat_minor": 5
}
